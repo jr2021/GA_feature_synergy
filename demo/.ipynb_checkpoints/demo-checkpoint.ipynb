{
 "cells": [
  {
   "cell_type": "code",
   "execution_count": 1,
   "metadata": {
    "executionInfo": {
     "elapsed": 20330,
     "status": "ok",
     "timestamp": 1610659497988,
     "user": {
      "displayName": "Jake Robertson",
      "photoUrl": "",
      "userId": "06378409329415392719"
     },
     "user_tz": 300
    },
    "id": "Q-uKsBwaeoXN"
   },
   "outputs": [],
   "source": [
    "import src.initialisation as init\n",
    "import src.recombination as rec\n",
    "import src.mutation as mut\n",
    "import src.evaluation as eva\n",
    "from src.statistics import Statistics\n",
    "import src.selection as sel\n",
    "\n",
    "from sklearn.datasets import *\n",
    "\n",
    "from sklearn.neighbors import KNeighborsClassifier\n",
    "from sklearn.model_selection import StratifiedKFold\n",
    "from sklearn.preprocessing import MinMaxScaler\n",
    "\n",
    "import IPython.display as ipy\n",
    "import matplotlib.pyplot as plt\n",
    "\n",
    "import numpy as np\n",
    "import pandas as pd"
   ]
  },
  {
   "cell_type": "markdown",
   "metadata": {
    "pycharm": {
     "name": "#%% md\n"
    }
   },
   "source": [
    "In this notebook, we preview our genetic approach for feature synergy on scikit-learn's classic Boston data set, which defines 13 features related to median house price in 507 Boston datasets. The goal is to predict if the median house price is above or below the overall median.  For a higher-dimensional data set, scikit-learn's breast cancer data set can be loaded by replacing `load_boston()` with `load_breast_cancer()` in the cell below. In this case, lines 3 and 4 may be ommited.\n"
   ]
  },
  {
   "cell_type": "code",
   "execution_count": 2,
   "metadata": {
    "colab": {
     "base_uri": "https://localhost:8080/",
     "height": 419
    },
    "executionInfo": {
     "elapsed": 287,
     "status": "ok",
     "timestamp": 1610645437801,
     "user": {
      "displayName": "Jake Robertson",
      "photoUrl": "",
      "userId": "06378409329415392719"
     },
     "user_tz": 300
    },
    "id": "qJmxP1KsehA-",
    "outputId": "cda383ed-5a58-4cc7-9e49-3070a045c7eb"
   },
   "outputs": [
    {
     "data": {
      "text/html": [
       "<div>\n",
       "<style scoped>\n",
       "    .dataframe tbody tr th:only-of-type {\n",
       "        vertical-align: middle;\n",
       "    }\n",
       "\n",
       "    .dataframe tbody tr th {\n",
       "        vertical-align: top;\n",
       "    }\n",
       "\n",
       "    .dataframe thead th {\n",
       "        text-align: right;\n",
       "    }\n",
       "</style>\n",
       "<table border=\"1\" class=\"dataframe\">\n",
       "  <thead>\n",
       "    <tr style=\"text-align: right;\">\n",
       "      <th></th>\n",
       "      <th>GTMEDV</th>\n",
       "      <th>CRIM</th>\n",
       "      <th>ZN</th>\n",
       "      <th>INDUS</th>\n",
       "      <th>CHAS</th>\n",
       "      <th>NOX</th>\n",
       "      <th>RM</th>\n",
       "      <th>AGE</th>\n",
       "      <th>DIS</th>\n",
       "      <th>RAD</th>\n",
       "      <th>TAX</th>\n",
       "      <th>PTRATIO</th>\n",
       "      <th>B</th>\n",
       "      <th>LSTAT</th>\n",
       "    </tr>\n",
       "  </thead>\n",
       "  <tbody>\n",
       "    <tr>\n",
       "      <th>0</th>\n",
       "      <td>1.0</td>\n",
       "      <td>0.000000</td>\n",
       "      <td>0.18</td>\n",
       "      <td>0.067815</td>\n",
       "      <td>0.0</td>\n",
       "      <td>0.314815</td>\n",
       "      <td>0.577505</td>\n",
       "      <td>0.641607</td>\n",
       "      <td>0.269203</td>\n",
       "      <td>0.000000</td>\n",
       "      <td>0.208015</td>\n",
       "      <td>0.287234</td>\n",
       "      <td>1.000000</td>\n",
       "      <td>0.089680</td>\n",
       "    </tr>\n",
       "    <tr>\n",
       "      <th>1</th>\n",
       "      <td>1.0</td>\n",
       "      <td>0.000236</td>\n",
       "      <td>0.00</td>\n",
       "      <td>0.242302</td>\n",
       "      <td>0.0</td>\n",
       "      <td>0.172840</td>\n",
       "      <td>0.547998</td>\n",
       "      <td>0.782698</td>\n",
       "      <td>0.348962</td>\n",
       "      <td>0.043478</td>\n",
       "      <td>0.104962</td>\n",
       "      <td>0.553191</td>\n",
       "      <td>1.000000</td>\n",
       "      <td>0.204470</td>\n",
       "    </tr>\n",
       "    <tr>\n",
       "      <th>2</th>\n",
       "      <td>1.0</td>\n",
       "      <td>0.000236</td>\n",
       "      <td>0.00</td>\n",
       "      <td>0.242302</td>\n",
       "      <td>0.0</td>\n",
       "      <td>0.172840</td>\n",
       "      <td>0.694386</td>\n",
       "      <td>0.599382</td>\n",
       "      <td>0.348962</td>\n",
       "      <td>0.043478</td>\n",
       "      <td>0.104962</td>\n",
       "      <td>0.553191</td>\n",
       "      <td>0.989737</td>\n",
       "      <td>0.063466</td>\n",
       "    </tr>\n",
       "    <tr>\n",
       "      <th>3</th>\n",
       "      <td>1.0</td>\n",
       "      <td>0.000293</td>\n",
       "      <td>0.00</td>\n",
       "      <td>0.063050</td>\n",
       "      <td>0.0</td>\n",
       "      <td>0.150206</td>\n",
       "      <td>0.658555</td>\n",
       "      <td>0.441813</td>\n",
       "      <td>0.448545</td>\n",
       "      <td>0.086957</td>\n",
       "      <td>0.066794</td>\n",
       "      <td>0.648936</td>\n",
       "      <td>0.994276</td>\n",
       "      <td>0.033389</td>\n",
       "    </tr>\n",
       "    <tr>\n",
       "      <th>4</th>\n",
       "      <td>1.0</td>\n",
       "      <td>0.000705</td>\n",
       "      <td>0.00</td>\n",
       "      <td>0.063050</td>\n",
       "      <td>0.0</td>\n",
       "      <td>0.150206</td>\n",
       "      <td>0.687105</td>\n",
       "      <td>0.528321</td>\n",
       "      <td>0.448545</td>\n",
       "      <td>0.086957</td>\n",
       "      <td>0.066794</td>\n",
       "      <td>0.648936</td>\n",
       "      <td>1.000000</td>\n",
       "      <td>0.099338</td>\n",
       "    </tr>\n",
       "  </tbody>\n",
       "</table>\n",
       "</div>"
      ],
      "text/plain": [
       "   GTMEDV      CRIM    ZN     INDUS  CHAS       NOX        RM       AGE  \\\n",
       "0     1.0  0.000000  0.18  0.067815   0.0  0.314815  0.577505  0.641607   \n",
       "1     1.0  0.000236  0.00  0.242302   0.0  0.172840  0.547998  0.782698   \n",
       "2     1.0  0.000236  0.00  0.242302   0.0  0.172840  0.694386  0.599382   \n",
       "3     1.0  0.000293  0.00  0.063050   0.0  0.150206  0.658555  0.441813   \n",
       "4     1.0  0.000705  0.00  0.063050   0.0  0.150206  0.687105  0.528321   \n",
       "\n",
       "        DIS       RAD       TAX   PTRATIO         B     LSTAT  \n",
       "0  0.269203  0.000000  0.208015  0.287234  1.000000  0.089680  \n",
       "1  0.348962  0.043478  0.104962  0.553191  1.000000  0.204470  \n",
       "2  0.348962  0.043478  0.104962  0.553191  0.989737  0.063466  \n",
       "3  0.448545  0.086957  0.066794  0.648936  0.994276  0.033389  \n",
       "4  0.448545  0.086957  0.066794  0.648936  1.000000  0.099338  "
      ]
     },
     "execution_count": 2,
     "metadata": {},
     "output_type": "execute_result"
    }
   ],
   "source": [
    "raw = load_boston()\n",
    "data = pd.DataFrame(raw.data, columns=raw.feature_names)\n",
    "GTMEDV = [0 if x < np.median(raw.target) else 1 for x in raw.target]\n",
    "data.insert(0, 'GTMEDV', GTMEDV) \n",
    "scaler = MinMaxScaler()\n",
    "data = pd.DataFrame(scaler.fit_transform(data), columns=data.columns, index=data.index)\n",
    "data.head()"
   ]
  },
  {
   "cell_type": "markdown",
   "metadata": {
    "pycharm": {
     "name": "#%% md\n"
    }
   },
   "source": [
    "We run the Multi-Objective Genetic Algorithm (MOGA) for feature selection, using KNN to create testing models. After the algorithm has terminated, information about the run and the resulting population is available in the `stats` object, whose structure is defined in `statistics.py`."
   ]
  },
  {
   "cell_type": "code",
   "execution_count": null,
   "metadata": {
    "colab": {
     "base_uri": "https://localhost:8080/",
     "height": 1000
    },
    "executionInfo": {
     "elapsed": 22674,
     "status": "error",
     "timestamp": 1610644220032,
     "user": {
      "displayName": "Jake Robertson",
      "photoUrl": "",
      "userId": "06378409329415392719"
     },
     "user_tz": 300
    },
    "id": "vtlrmX5AFGOh",
    "outputId": "c76a368d-1727-4805-8a03-5f4d8b887201",
    "pycharm": {
     "name": "#%%\n"
    }
   },
   "outputs": [
    {
     "data": {
      "image/png": "[encoded data removed]",
      "text/plain": [
       "<Figure size 432x288 with 4 Axes>"
      ]
     },
     "metadata": {},
     "output_type": "display_data"
    }
   ],
   "source": [
    "params = {'population_size': 64,\n",
    "              'parents_size': 32,  # must be even\n",
    "              'children_size': 32,\n",
    "              'generations': 100,\n",
    "              'mutation_rate': 1,\n",
    "              'k_range': 30,\n",
    "              'features': data.shape[1] - 1,\n",
    "              'y': data.columns[0]}\n",
    "\n",
    "stats = Statistics(params)\n",
    "population = init.NSGA_II(params)\n",
    "population = eva.NSGA_II(population, data, params)\n",
    "\n",
    "prev_error, prev_size = np.array([individual['meta']['error'] for individual in population]).mean(), np.array([individual['meta']['size'] for individual in population]).mean()\n",
    "fig, ax = plt.subplots(nrows=2, ncols=2)\n",
    "fig.subplots_adjust(wspace=0.5, hspace=0.5)\n",
    "ax[0, 0].set_xlabel('Feature Number'), ax[0, 0].set_ylabel('Solution Number')\n",
    "ax[1, 0].set_xlabel('Generation'), ax[1, 0].set_ylabel('Avg. Class. Error')\n",
    "ax[1, 1].set_xlabel('Generation'), ax[1, 1].set_ylabel('Avg. Subset Size')\n",
    "\n",
    "for generation in range(params['generations']):\n",
    "    parents, fronts = sel.NSGA_II(population, params, params['population_size'])\n",
    "    parents, children = rec.NSGA_II(parents, params)\n",
    "    children = mut.flip(children, params)\n",
    "    children = eva.NSGA_II(children, data, params)\n",
    "    population, fronts = sel.NSGA_II(np.concatenate((population, children)), params, params['population_size'])\n",
    "    # population = np.concatenate((parents, children))  # population, fronts = sel.NSGA_II(np.concatenate((population, children)), params)\n",
    "\n",
    "    stats.update_dynamic(population, generation)\n",
    "\n",
    "    ax[0, 0].imshow(X=[individual['data'] for individual in population], aspect='auto', interpolation='none', origin='lower')\n",
    "    ax[0, 1].clear()\n",
    "    ax[0, 1].set_xlabel('Classification Error'), ax[0, 1].set_ylabel('Feature Subset Size')\n",
    "    ax[0, 1].scatter(x=[individual['meta']['error'] for individual in population], y=[individual['meta']['size'] for individual in population], alpha=0.5, color='black')\n",
    "    ax[1, 0].plot([generation - 1, generation], [prev_error, np.array([individual['meta']['error'] for individual in population]).mean()], color='black')\n",
    "    prev_error = np.array([individual['meta']['error'] for individual in population]).mean()\n",
    "    ax[1, 1].plot([generation - 1, generation], [prev_size, np.array([individual['meta']['size'] for individual in population]).mean()], color='black')\n",
    "    prev_size = np.array([individual['meta']['size'] for individual in population]).mean()\n",
    "\n",
    "    ipy.clear_output(wait=True)\n",
    "    ipy.display(plt.gcf())\n",
    "\n",
    "stats.update_static(population)\n",
    "\n",
    "ipy.clear_output(wait=True)"
   ]
  },
  {
   "cell_type": "markdown",
   "metadata": {
    "pycharm": {
     "name": "#%% md\n"
    }
   },
   "source": [
    "The unique feature subsets are collected from the Pareto front of the resulting population, and are available in the `unique_stats` object."
   ]
  },
  {
   "cell_type": "code",
   "execution_count": 4,
   "metadata": {
    "id": "lxpa3WIVH_Je"
   },
   "outputs": [],
   "source": [
    "fronts = sel.fast_nondominated_sort(stats.data['final']['pop'], stats.data['meta'])"
   ]
  },
  {
   "cell_type": "code",
   "execution_count": 5,
   "metadata": {
    "id": "BwzSkzc2Ob7-"
   },
   "outputs": [],
   "source": [
    "pareto_stats = Statistics({'population_size': len(fronts[0]),\n",
    "                      'generations': 1,\n",
    "                      'features': 13})\n",
    "pareto_stats.update_dynamic(fronts[0], 1)\n",
    "pareto_stats.update_static(fronts[0])"
   ]
  },
  {
   "cell_type": "code",
   "execution_count": 6,
   "metadata": {
    "colab": {
     "base_uri": "https://localhost:8080/"
    },
    "executionInfo": {
     "elapsed": 542,
     "status": "ok",
     "timestamp": 1610641248110,
     "user": {
      "displayName": "Jake Robertson",
      "photoUrl": "",
      "userId": "06378409329415392719"
     },
     "user_tz": 300
    },
    "id": "UOK256GrD6n7",
    "outputId": "acf3be7f-b4f5-4e0c-9363-866c6bd3509e"
   },
   "outputs": [
    {
     "name": "stdout",
     "output_type": "stream",
     "text": [
      "analyzing solution: 14\n"
     ]
    }
   ],
   "source": [
    "uniques, __ = [], []\n",
    "\n",
    "j = 0\n",
    "for sol in pareto_stats.data['final']['pop']:\n",
    "    unique = {'meta': {'error': sol['meta']['error'],\n",
    "                       'size': sol['meta']['size'],\n",
    "                       'k_value': sol['meta']['k_value']},\n",
    "              'data': sol['data']}\n",
    "    _ = {'meta': {'error': sol['meta']['error'],\n",
    "                  'size': sol['meta']['size']},\n",
    "         'data': sol['data']}\n",
    "    \n",
    "    if _ not in __:\n",
    "        uniques.append(unique)\n",
    "        __.append(_)\n",
    "\n",
    "    \n",
    "    print('analyzing solution: ' + str(j))\n",
    "    ipy.clear_output(wait=True)\n",
    "    j += 1"
   ]
  },
  {
   "cell_type": "code",
   "execution_count": 7,
   "metadata": {
    "id": "Owe5SYeETphv"
   },
   "outputs": [],
   "source": [
    "unique_stats = Statistics({'population_size': len(uniques),\n",
    "                      'generations': 1,\n",
    "                      'features': data.shape[1] - 1})\n",
    "unique_stats.update_dynamic(uniques, 1)\n",
    "unique_stats.update_static(uniques)"
   ]
  },
  {
   "cell_type": "markdown",
   "metadata": {
    "pycharm": {
     "name": "#%% md\n"
    }
   },
   "source": [
    "The unique feature subsets on the Pareto front are evaluated using the metrics defined in Section 2.3 to derive the feature characteristics of feature importance and feature synergy."
   ]
  },
  {
   "cell_type": "code",
   "execution_count": 8,
   "metadata": {
    "id": "cu3TmijG_jaq"
   },
   "outputs": [],
   "source": [
    "imp = np.zeros(13, dtype=float)\n",
    "\n",
    "for sol in unique_stats.data['final']['pop']:\n",
    "    for i in range(len(sol['data'])):\n",
    "        imp[i] += sol['data'][i] * ((1 - sol['meta']['error']) / sol['meta']['size'])\n",
    "\n",
    "imp = (imp - np.min(imp)) / np.ptp(imp)"
   ]
  },
  {
   "cell_type": "code",
   "execution_count": 9,
   "metadata": {
    "colab": {
     "base_uri": "https://localhost:8080/",
     "height": 542
    },
    "executionInfo": {
     "elapsed": 718,
     "status": "ok",
     "timestamp": 1610641495870,
     "user": {
      "displayName": "Jake Robertson",
      "photoUrl": "",
      "userId": "06378409329415392719"
     },
     "user_tz": 300
    },
    "id": "LlQoO_EWDuPa",
    "outputId": "86cfada0-e141-4edb-e45c-ce268484b172"
   },
   "outputs": [
    {
     "data": {
      "image/png": "[encoded data removed]",
      "text/plain": [
       "<Figure size 432x288 with 1 Axes>"
      ]
     },
     "metadata": {
      "needs_background": "light"
     },
     "output_type": "display_data"
    }
   ],
   "source": [
    "plt.bar(x=data.columns[1:], height=imp)\n",
    "plt.xticks(rotation=-45)\n",
    "plt.xlabel('Feature Name'), plt.ylabel('Feature Importance')\n",
    "plt.show()"
   ]
  },
  {
   "cell_type": "code",
   "execution_count": 10,
   "metadata": {
    "id": "ZpKayogmJ_ji"
   },
   "outputs": [],
   "source": [
    "sorted_imp = {}\n",
    "\n",
    "for i in range(len(data.columns[1:])):\n",
    "    sorted_imp[data.columns[1:][i]] = imp[i]"
   ]
  },
  {
   "cell_type": "code",
   "execution_count": 11,
   "metadata": {
    "colab": {
     "base_uri": "https://localhost:8080/",
     "height": 542
    },
    "executionInfo": {
     "elapsed": 463,
     "status": "ok",
     "timestamp": 1610641503674,
     "user": {
      "displayName": "Jake Robertson",
      "photoUrl": "",
      "userId": "06378409329415392719"
     },
     "user_tz": 300
    },
    "id": "l5LzvyT_XZap",
    "outputId": "734e8814-d3e6-4af7-b2ce-69079d4f66a9"
   },
   "outputs": [
    {
     "data": {
      "image/png": "[encoded data removed]",
      "text/plain": [
       "<Figure size 432x288 with 1 Axes>"
      ]
     },
     "metadata": {
      "needs_background": "light"
     },
     "output_type": "display_data"
    }
   ],
   "source": [
    "plt.bar(x=sorted(sorted_imp, key=sorted_imp.get, reverse=True), height=sorted(sorted_imp.values(), reverse=True))\n",
    "plt.xticks(rotation=-45)\n",
    "plt.xlabel('Feature Name'), plt.ylabel('Feature Importance')\n",
    "plt.show()"
   ]
  },
  {
   "cell_type": "code",
   "execution_count": 12,
   "metadata": {
    "colab": {
     "base_uri": "https://localhost:8080/"
    },
    "executionInfo": {
     "elapsed": 11320,
     "status": "ok",
     "timestamp": 1610641350125,
     "user": {
      "displayName": "Jake Robertson",
      "photoUrl": "",
      "userId": "06378409329415392719"
     },
     "user_tz": 300
    },
    "id": "-NuAbnmQN-mb",
    "outputId": "9c84c010-0373-49f1-9838-692f4dd9fa4a"
   },
   "outputs": [
    {
     "name": "stdout",
     "output_type": "stream",
     "text": [
      "analyzing interaction (12, 11)\n"
     ]
    }
   ],
   "source": [
    "interaction_matrix, accuracy_matrix = np.zeros((data.shape[1] - 1, data.shape[1] - 1), dtype=float), np.zeros((data.shape[1] - 1, data.shape[1] - 1), dtype=float)\n",
    "\n",
    "for i in range(data.shape[1] - 1):\n",
    "    for j in range(data.shape[1] - 1):\n",
    "        if i == j:\n",
    "            break\n",
    "\n",
    "        both, left, right = 0, 0, 0\n",
    "        for solution in unique_stats.data['final']['sols']:\n",
    "            if solution[i] == 1 and solution[j] == 1:\n",
    "                both += 1\n",
    "            elif solution[i] == 1 and solution[j] == 0:\n",
    "                left += 1\n",
    "            elif solution[i] == 0 and solution[j] == 1:\n",
    "                right += 1\n",
    "        try:\n",
    "            interaction_matrix[i][j] = both / (both + left + right)\n",
    "            interaction_matrix[j][i] = both / (both + left + right)\n",
    "        except:\n",
    "            pass\n",
    "\n",
    "        if interaction_matrix[i][j] != 0:\n",
    "            total_scores = []\n",
    "            for k in range(1,30):\n",
    "                model, cross_validation = KNeighborsClassifier(k), StratifiedKFold(5, shuffle=True, random_state=1)\n",
    "                split_scores = []\n",
    "                X, y = data[[data.columns[i + 1], data.columns[j + 1]]], data[data.columns[0]]\n",
    "                for m, n in cross_validation.split(X, y):\n",
    "                    x_train, x_test, y_train, y_test = X.iloc[m], X.iloc[n], y.iloc[m], y.iloc[n]\n",
    "                    model.fit(x_train, y_train)\n",
    "                    split_scores.append(model.score(x_test, y_test))\n",
    "                total_scores.append(np.array(split_scores).mean())\n",
    "            \n",
    "            accuracy_matrix[i][j] = interaction_matrix[i][j] * max(total_scores)  \n",
    "            accuracy_matrix[j][i] = interaction_matrix[j][i] * max(total_scores)  \n",
    "\n",
    "        print('analyzing interaction (' + str(i) + ', ' + str(j) + ')')\n",
    "        ipy.clear_output(wait=True)"
   ]
  },
  {
   "cell_type": "code",
   "execution_count": 13,
   "metadata": {
    "colab": {
     "base_uri": "https://localhost:8080/",
     "height": 542
    },
    "executionInfo": {
     "elapsed": 729,
     "status": "ok",
     "timestamp": 1610641350861,
     "user": {
      "displayName": "Jake Robertson",
      "photoUrl": "",
      "userId": "06378409329415392719"
     },
     "user_tz": 300
    },
    "id": "4E5C2SJArsAl",
    "outputId": "eae30d73-2dc7-4118-f159-dbbf34fbdd86",
    "pycharm": {
     "name": "#%%\n"
    }
   },
   "outputs": [
    {
     "data": {
      "image/png": "[encoded data removed]",
      "text/plain": [
       "<Figure size 432x288 with 1 Axes>"
      ]
     },
     "metadata": {
      "needs_background": "light"
     },
     "output_type": "display_data"
    }
   ],
   "source": [
    "plt.imshow(accuracy_matrix, origin='bottom')\n",
    "plt.xlabel('Feature Number'), plt.ylabel('Feature Number')\n",
    "plt.show()\n"
   ]
  },
  {
   "cell_type": "markdown",
   "metadata": {
    "pycharm": {
     "name": "#%% md\n"
    }
   },
   "source": [
    "In the results, the feature pair LSTAT, the \"proportion of adults without some high school education and proportion of male workers classified as laborers\" and RM, the average number of rooms per dwelling, often emerges as highly synergistic (with the accuracy-factor). In the plot below a low value of LSTAT and a high value of RM is associated with high median housing prices, while a low value of RM and a high value of LSTAT is associated with low median housing prices.\n"
   ]
  },
  {
   "cell_type": "code",
   "execution_count": 14,
   "metadata": {
    "collapsed": false,
    "jupyter": {
     "outputs_hidden": false
    },
    "pycharm": {
     "name": "#%%\n"
    }
   },
   "outputs": [
    {
     "data": {
      "image/png": "[encoded data removed]",
      "text/plain": [
       "<Figure size 432x288 with 1 Axes>"
      ]
     },
     "metadata": {
      "needs_background": "light"
     },
     "output_type": "display_data"
    }
   ],
   "source": [
    "plt.scatter(x=data[data['GTMEDV'] == 0]['LSTAT'], y=data[data['GTMEDV'] == 0]['RM'])\n",
    "plt.scatter(x=data[data['GTMEDV'] == 1]['LSTAT'], y=data[data['GTMEDV'] == 1]['RM'])\n",
    "plt.xlabel('LSTAT'), plt.ylabel('RM')\n",
    "plt.legend(['GTMEDV == 0', 'GTMEDV == 1'])\n",
    "plt.show()"
   ]
  },
  {
   "cell_type": "code",
   "execution_count": null,
   "metadata": {
    "collapsed": false,
    "jupyter": {
     "outputs_hidden": false
    },
    "pycharm": {
     "name": "#%%\n"
    }
   },
   "outputs": [],
   "source": [
    "\n"
   ]
  }
 ],
 "metadata": {
  "colab": {
   "collapsed_sections": [],
   "name": "demo.ipynb",
   "provenance": []
  },
  "kernelspec": {
   "display_name": "Python 3",
   "language": "python",
   "name": "python3"
  },
  "language_info": {
   "codemirror_mode": {
    "name": "ipython",
    "version": 3
   },
   "file_extension": ".py",
   "mimetype": "text/x-python",
   "name": "python",
   "nbconvert_exporter": "python",
   "pygments_lexer": "ipython3",
   "version": "3.8.2"
  }
 },
 "nbformat": 4,
 "nbformat_minor": 4
}
